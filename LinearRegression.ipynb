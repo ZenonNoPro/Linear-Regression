{
  "nbformat": 4,
  "nbformat_minor": 0,
  "metadata": {
    "colab": {
      "name": "LinearRegression",
      "provenance": [],
      "authorship_tag": "ABX9TyOhJqwAJHL1R3loqqdszI12",
      "include_colab_link": true
    },
    "kernelspec": {
      "name": "python3",
      "display_name": "Python 3"
    },
    "language_info": {
      "name": "python"
    }
  },
  "cells": [
    {
      "cell_type": "markdown",
      "metadata": {
        "id": "view-in-github",
        "colab_type": "text"
      },
      "source": [
        "<a href=\"https://colab.research.google.com/github/ZenonNoPro/Linear-Regression/blob/main/LinearRegression.ipynb\" target=\"_parent\"><img src=\"https://colab.research.google.com/assets/colab-badge.svg\" alt=\"Open In Colab\"/></a>"
      ]
    },
    {
      "cell_type": "markdown",
      "source": [
        "khai báo thư viện"
      ],
      "metadata": {
        "id": "4G3D5PIKakYX"
      }
    },
    {
      "cell_type": "code",
      "execution_count": 2,
      "metadata": {
        "id": "SEKxztSyXOxk"
      },
      "outputs": [],
      "source": [
        "import numpy as np\n",
        "import matplotlib.pyplot as plt"
      ]
    },
    {
      "cell_type": "markdown",
      "source": [
        "dữ liệu đầu vào (mẫu)"
      ],
      "metadata": {
        "id": "kyfvE6Aqav21"
      }
    },
    {
      "cell_type": "code",
      "source": [
        "X = np.asarray([[5,7,8,7,2,17,2,9,4,11,12,9,6]]).T\n",
        "Y = np.asarray([[99,86,87,88,111,86,103,87,94,78,77,85,86]]).T"
      ],
      "metadata": {
        "id": "MQMwhb3-aqJm"
      },
      "execution_count": 34,
      "outputs": []
    },
    {
      "cell_type": "markdown",
      "source": [
        "tìm nghiệm bài toán (ma trận hệ số để dự đoán kết quả)"
      ],
      "metadata": {
        "id": "SBdyA6G-a3lm"
      }
    },
    {
      "cell_type": "code",
      "source": [
        "One = np.ones((X.shape[0], 1))\n",
        "X = np.concatenate((X, One), axis = 1)\n",
        "\n",
        "A = np.dot(X.T, X)\n",
        "B = np.dot(X.T, Y)\n",
        "w = np.dot(np.linalg.pinv(A), B)\n",
        "print(w)"
      ],
      "metadata": {
        "id": "szGj4itQa4QZ",
        "outputId": "cbcabbb8-0de0-4c3d-c447-4b3a3bbe4e76",
        "colab": {
          "base_uri": "https://localhost:8080/"
        }
      },
      "execution_count": 35,
      "outputs": [
        {
          "output_type": "stream",
          "name": "stdout",
          "text": [
            "[[ -1.75128771]\n",
            " [103.10596026]]\n"
          ]
        }
      ]
    },
    {
      "cell_type": "markdown",
      "source": [
        "args:\n",
        "\n",
        "  x: giá trị đầu vào cần dự đoán kết quả tương ứng\n",
        "\n",
        "  w: ma trận hệ số dể dự đoán kết quả"
      ],
      "metadata": {
        "id": "XGvmPwgTYzlJ"
      }
    },
    {
      "cell_type": "code",
      "source": [
        "def calc_linear_function(x, w):\n",
        "  return w[0][0] * x + w[1][0]"
      ],
      "metadata": {
        "id": "guK8CcvUXBWt"
      },
      "execution_count": 36,
      "outputs": []
    },
    {
      "cell_type": "markdown",
      "source": [
        "biểu diễn dữ liệu và đường tuyến tính dự đoán"
      ],
      "metadata": {
        "id": "cxOBZGgEaO_C"
      }
    },
    {
      "cell_type": "code",
      "source": [
        "plt.plot(X[:, 0], Y[:, 0], 'yo')\n",
        "plt.plot(X[:, 0], calc_linear_function(X[:, 0], w))\n",
        "plt.show()\n",
        "print(w)"
      ],
      "metadata": {
        "id": "j6RF6J-LaJHC",
        "outputId": "40979ed3-8e3d-49c4-df5e-7ce289fa3f5f",
        "colab": {
          "base_uri": "https://localhost:8080/",
          "height": 300
        }
      },
      "execution_count": 37,
      "outputs": [
        {
          "output_type": "display_data",
          "data": {
            "text/plain": [
              "<Figure size 432x288 with 1 Axes>"
            ],
            "image/png": "[encoded data removed]"
          },
          "metadata": {
            "needs_background": "light"
          }
        },
        {
          "output_type": "stream",
          "name": "stdout",
          "text": [
            "[[ -1.75128771]\n",
            " [103.10596026]]\n"
          ]
        }
      ]
    }
  ]
}