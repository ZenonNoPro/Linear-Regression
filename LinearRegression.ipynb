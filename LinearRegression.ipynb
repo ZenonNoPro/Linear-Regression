{
  "nbformat": 4,
  "nbformat_minor": 0,
  "metadata": {
    "colab": {
      "name": "LinearRegression",
      "provenance": [],
      "authorship_tag": "ABX9TyNjGs0n6mEdup+ScTLfgOnZ",
      "include_colab_link": true
    },
    "kernelspec": {
      "name": "python3",
      "display_name": "Python 3"
    },
    "language_info": {
      "name": "python"
    }
  },
  "cells": [
    {
      "cell_type": "markdown",
      "metadata": {
        "id": "view-in-github",
        "colab_type": "text"
      },
      "source": [
        "<a href=\"https://colab.research.google.com/github/ZenonNoPro/Linear-Regression/blob/main/LinearRegression.ipynb\" target=\"_parent\"><img src=\"https://colab.research.google.com/assets/colab-badge.svg\" alt=\"Open In Colab\"/></a>"
      ]
    },
    {
      "cell_type": "code",
      "execution_count": null,
      "metadata": {
        "id": "SEKxztSyXOxk",
        "colab": {
          "base_uri": "https://localhost:8080/",
          "height": 300
        },
        "outputId": "1b6b6ebd-1c12-4cdc-ed88-5a8035bf55b5"
      },
      "outputs": [
        {
          "output_type": "stream",
          "name": "stdout",
          "text": [
            "[[ -1.75128771]\n",
            " [103.10596026]]\n"
          ]
        },
        {
          "output_type": "display_data",
          "data": {
            "text/plain": [
              "<Figure size 432x288 with 1 Axes>"
            ],
            "image/png": "[encoded data removed]"
          },
          "metadata": {
            "needs_background": "light"
          }
        }
      ],
      "source": [
        "import numpy as np\n",
        "import matplotlib.pyplot as plt\n",
        "\n",
        "# ex\n",
        "X = np.asarray([[5,7,8,7,2,17,2,9,4,11,12,9,6]]).T\n",
        "Y = np.asarray([[99,86,87,88,111,86,103,87,94,78,77,85,86]]).T\n",
        "\n",
        "One = np.ones((X.shape[0], 1))\n",
        "X = np.concatenate((X, One), axis = 1)\n",
        "\n",
        "A = np.dot(X.T, X)\n",
        "B = np.dot(X.T, Y)\n",
        "w = np.dot(np.linalg.pinv(A), B)\n",
        "\n",
        "def calc(x):\n",
        "  return w[0][0] * x + w[1][0]\n",
        "print(w)\n",
        "\n",
        "plt.plot(X[:, 0], Y[:, 0], 'yo')\n",
        "plt.plot(X[:, 0], calc(X[:, 0]))\n",
        "plt.show()"
      ]
    },
    {
      "cell_type": "code",
      "source": [
        "import numpy as np\n",
        "import matplotlib.pyplot as plt\n",
        "from sklearn import linear_model\n",
        "# ex\n",
        "X = np.asarray([[5,7,8,7,2,17,2,9,4,11,12,9,6]]).T\n",
        "Y = np.asarray([[99,86,87,88,111,86,103,87,94,78,77,85,86]]).T\n",
        "\n",
        "One = np.ones((X.shape[0], 1))\n",
        "X = np.concatenate((X, One), axis = 1)\n",
        "\n",
        "w = linear_model.LinearRegression(fit_intercept = False).fit(X, Y)\n",
        "\n",
        "def calc(x):\n",
        "  return w.coef_[0][0] * x + w.coef_[0][1]\n",
        "\n",
        "plt.plot(X[:, 0], Y[:, 0], 'yo')\n",
        "plt.plot(X[:, 0], calc(X[:, 0]))\n",
        "plt.show()"
      ],
      "metadata": {
        "colab": {
          "base_uri": "https://localhost:8080/",
          "height": 265
        },
        "id": "71xJ6LWNtNm4",
        "outputId": "de029e7c-c99f-4f35-edf9-914a64f73436"
      },
      "execution_count": 2,
      "outputs": [
        {
          "output_type": "display_data",
          "data": {
            "text/plain": [
              "<Figure size 432x288 with 1 Axes>"
            ],
            "image/png": "[encoded data removed]"
          },
          "metadata": {
            "needs_background": "light"
          }
        }
      ]
    }
  ]
}